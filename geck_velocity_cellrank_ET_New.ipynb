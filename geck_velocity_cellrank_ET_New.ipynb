{
 "cells": [
  {
   "cell_type": "code",
   "execution_count": null,
   "id": "5078a691",
   "metadata": {},
   "outputs": [],
   "source": [
    "import scvelo as scv\n",
    "import scanpy as sc\n",
    "import cellrank as cr\n",
    "import numpy as np\n",
    "import pandas as pd\n",
    "import anndata as ad\n",
    "import loompy\n",
    "import matplotlib as plt\n",
    "import igraph"
   ]
  },
  {
   "cell_type": "code",
   "execution_count": null,
   "id": "f93e0b6f",
   "metadata": {},
   "outputs": [],
   "source": [
    "# import CellRank kernels and estimators\n",
    "from cellrank.kernels import ConnectivityKernel\n",
    "from cellrank.kernels import CytoTRACEKernel\n",
    "from cellrank.kernels import VelocityKernel\n",
    "from cellrank.estimators import GPCCA"
   ]
  },
  {
   "cell_type": "code",
   "execution_count": null,
   "id": "136d7f9b",
   "metadata": {},
   "outputs": [],
   "source": [
    "scv.settings.verbosity = 3\n",
    "scv.settings.set_figure_params('scvelo', transparent=False, facecolor='white', dpi=200, dpi_save=500, frameon=False)\n",
    "cr.settings.verbosity = 2"
   ]
  },
  {
   "cell_type": "code",
   "execution_count": null,
   "id": "da68d5d5",
   "metadata": {},
   "outputs": [],
   "source": [
    "adata = sc.read_h5ad(\"F:/Gekko_Gecko/SingleCell_Analysis/SC_Analysis_Seurat/allET.integrated_celltypes_filt.h5ad\")\n",
    "adata"
   ]
  },
  {
   "cell_type": "code",
   "execution_count": null,
   "id": "519be9f2",
   "metadata": {},
   "outputs": [],
   "source": [
    "ldata1 = scv.read('F:/Gekko_Gecko/SingleCell_Analysis/velodata/ET_3dpo.loom', cache=True)\n",
    "ldata2 = scv.read('F:/Gekko_Gecko/SingleCell_Analysis/velodata/ET_7dpo.loom', cache=True)"
   ]
  },
  {
   "cell_type": "code",
   "execution_count": null,
   "id": "40e87239",
   "metadata": {
    "scrolled": true
   },
   "outputs": [],
   "source": [
    "barcodes = [bc.split(':')[1] for bc in ldata1.obs.index.tolist()]\n",
    "barcodes = ['ET_3dpo_' + bc[0:len(bc)-1] + '-1' for bc in barcodes]\n",
    "ldata1.obs.index = barcodes\n",
    "ldata1.obs.index"
   ]
  },
  {
   "cell_type": "code",
   "execution_count": null,
   "id": "ae1ad28f",
   "metadata": {},
   "outputs": [],
   "source": [
    "barcodes = [bc.split(':')[1] for bc in ldata2.obs.index.tolist()]\n",
    "barcodes = ['ET_7dpo_' + bc[0:len(bc)-1] + '-1' for bc in barcodes]\n",
    "ldata2.obs.index = barcodes\n",
    "ldata2.obs.index"
   ]
  },
  {
   "cell_type": "code",
   "execution_count": null,
   "id": "1f0f61fc",
   "metadata": {},
   "outputs": [],
   "source": [
    "# make variable names unique\n",
    "ldata1.var_names_make_unique()\n",
    "ldata2.var_names_make_unique()"
   ]
  },
  {
   "cell_type": "code",
   "execution_count": null,
   "id": "ac8e5a50",
   "metadata": {},
   "outputs": [],
   "source": [
    "adata.obs.index"
   ]
  },
  {
   "cell_type": "code",
   "execution_count": null,
   "id": "f9b27d35",
   "metadata": {},
   "outputs": [],
   "source": [
    "# concatenate the six loom\n",
    "ldata_ET = ldata1.concatenate([ldata2])"
   ]
  },
  {
   "cell_type": "code",
   "execution_count": null,
   "id": "391b1308",
   "metadata": {},
   "outputs": [],
   "source": [
    "#clean the sample barcodes and save the sample name to sampel_batch\n",
    "scv.utils.clean_obs_names(adata)\n",
    "scv.utils.clean_obs_names(ldata_ET)"
   ]
  },
  {
   "cell_type": "code",
   "execution_count": null,
   "id": "6109ed8e",
   "metadata": {},
   "outputs": [],
   "source": [
    "adata_merge = scv.utils.merge(adata, ldata_ET)\n",
    "adata_merge"
   ]
  },
  {
   "cell_type": "code",
   "execution_count": null,
   "id": "d90af6dc",
   "metadata": {},
   "outputs": [],
   "source": [
    "#adata_merge.__dict__['_raw'].__dict__['_var'] = adata_merge.__dict__['_raw'].__dict__['_var'].rename(columns={'_index': 'features'})\n",
    "#adata_merge.write('F:/Gekko_Gecko/SingleCell_Analysis/SC_Analysis_Seurat/adataveloraw_ET.h5ad')"
   ]
  },
  {
   "cell_type": "code",
   "execution_count": null,
   "id": "063fe8b3",
   "metadata": {},
   "outputs": [],
   "source": [
    "#adata_merge = sc.read_h5ad(\"F:/Gekko_Gecko/SingleCell_Analysis/SC_Analysis_Seurat/adataveloraw_ET.h5ad\")\n",
    "#adata_merge"
   ]
  },
  {
   "cell_type": "code",
   "execution_count": null,
   "id": "ee67c6d2",
   "metadata": {},
   "outputs": [],
   "source": [
    "sc.pl.umap(adata_merge, color='celltypes', frameon=False, legend_loc='right margin', title='', save=None)"
   ]
  },
  {
   "cell_type": "code",
   "execution_count": null,
   "id": "5d239fee",
   "metadata": {},
   "outputs": [],
   "source": [
    "scv.pl.proportions(adata_merge, groupby='celltypes', layers=None, highlight='unspliced', add_labels_pie=True, add_labels_bar=True, fontsize=8, figsize=(10, 2), dpi=300, use_raw=True, show=True, save=\"spliced_proportion.png\")"
   ]
  },
  {
   "cell_type": "code",
   "execution_count": null,
   "id": "be9b26e3",
   "metadata": {},
   "outputs": [],
   "source": [
    "sc.pp.neighbors(adata_merge)"
   ]
  },
  {
   "cell_type": "code",
   "execution_count": null,
   "id": "51e9a0cb",
   "metadata": {},
   "outputs": [],
   "source": [
    "sc.tl.draw_graph(adata_merge, layout='fr')\n",
    "sc.tl.draw_graph(adata_merge, layout='drl')\n",
    "#sc.tl.draw_graph(adata_merge, layout='kk')\n",
    "sc.tl.draw_graph(adata_merge, layout='lgl')\n",
    "#sc.tl.draw_graph(adata_merge, layout='rt')\n",
    "sc.tl.diffmap(adata_merge)"
   ]
  },
  {
   "cell_type": "code",
   "execution_count": null,
   "id": "1faecde9",
   "metadata": {},
   "outputs": [],
   "source": [
    "adata_merge.obsm"
   ]
  },
  {
   "cell_type": "code",
   "execution_count": null,
   "id": "350aeb20",
   "metadata": {},
   "outputs": [],
   "source": [
    "sc.pl.embedding(\n",
    "    adata_merge,\n",
    "    basis=\"draw_graph_lgl\",\n",
    "    color=[\"orig.ident\", \"celltypes\"],\n",
    "    color_map=\"gnuplot\", save=\"ET_force-directed_lgl.png\" ,\n",
    ")"
   ]
  },
  {
   "cell_type": "code",
   "execution_count": null,
   "id": "266feb60",
   "metadata": {},
   "outputs": [],
   "source": [
    "sc.pl.embedding(\n",
    "    adata_merge,\n",
    "    basis=\"draw_graph_fr\",\n",
    "    color=[\"orig.ident\", \"celltypes\"],\n",
    "    color_map=\"gnuplot\", save=\"ET_force-directed_fr.png\",\n",
    ")"
   ]
  },
  {
   "cell_type": "code",
   "execution_count": null,
   "id": "8cfcb39f",
   "metadata": {},
   "outputs": [],
   "source": [
    "sc.pl.embedding(\n",
    "    adata_merge,\n",
    "    basis=\"draw_graph_drl\",\n",
    "    color=[\"orig.ident\", \"celltypes\"],\n",
    "    color_map=\"gnuplot\", save=\"ET_force-directed_drl.png\",\n",
    ")"
   ]
  },
  {
   "cell_type": "code",
   "execution_count": null,
   "id": "cb917b9c",
   "metadata": {},
   "outputs": [],
   "source": [
    "sc.pl.scatter(\n",
    "    adata_merge,\n",
    "    basis=\"diffmap\",\n",
    "    color=[\"orig.ident\", \"celltypes\"],\n",
    "    color_map=\"gnuplot\", save=\"ET_diffmap.png\", \n",
    ")"
   ]
  },
  {
   "cell_type": "code",
   "execution_count": null,
   "id": "20e40c7e",
   "metadata": {},
   "outputs": [],
   "source": [
    "scv.pp.filter_and_normalize(adata_merge)"
   ]
  },
  {
   "cell_type": "code",
   "execution_count": null,
   "id": "9fc74d13",
   "metadata": {},
   "outputs": [],
   "source": [
    "scv.pp.moments(adata_merge)"
   ]
  },
  {
   "cell_type": "code",
   "execution_count": null,
   "id": "3ac1397d",
   "metadata": {},
   "outputs": [],
   "source": [
    "##scv.tl..recover_dynamics(adata_merge)"
   ]
  },
  {
   "cell_type": "code",
   "execution_count": null,
   "id": "a9472d53",
   "metadata": {},
   "outputs": [],
   "source": [
    "scv.tl.velocity(adata_merge, mode = \"stochastic\")"
   ]
  },
  {
   "cell_type": "code",
   "execution_count": null,
   "id": "d573a5f0",
   "metadata": {},
   "outputs": [],
   "source": [
    "vk = VelocityKernel(adata_merge)"
   ]
  },
  {
   "cell_type": "code",
   "execution_count": null,
   "id": "27776e05",
   "metadata": {},
   "outputs": [],
   "source": [
    "vk.compute_transition_matrix()\n",
    "print(vk)"
   ]
  },
  {
   "cell_type": "code",
   "execution_count": null,
   "id": "b8668089",
   "metadata": {},
   "outputs": [],
   "source": [
    "vk.plot_projection(basis=\"draw_graph_drl\", color=[\"celltypes\",\"orig.ident\"], title=\"velocity stream of regenerating tail\", \n",
    "    save=\"ET_embedstream_drl_celltype_velokernel1.png\")"
   ]
  },
  {
   "cell_type": "code",
   "execution_count": null,
   "id": "38df980c",
   "metadata": {},
   "outputs": [],
   "source": [
    "vk.plot_projection(basis=\"draw_graph_fr\", color=[\"celltypes\",\"orig.ident\"], title=\"velocity stream of regenerating tail\", \n",
    "    save=\"ET_embedstream_fr_celltype_velokernel1.png\")"
   ]
  },
  {
   "cell_type": "code",
   "execution_count": null,
   "id": "86223579",
   "metadata": {
    "scrolled": true
   },
   "outputs": [],
   "source": [
    "vk.plot_projection(basis=\"draw_graph_lgl\", color=[\"celltypes\",\"orig.ident\"], title=\"velocity stream of regenerating tail\", legend_loc=\"best\",\n",
    "    save=\"ET_embedstream_lgl_celltype_velokernel1.png\")"
   ]
  },
  {
   "cell_type": "code",
   "execution_count": null,
   "id": "3f090b4a",
   "metadata": {},
   "outputs": [],
   "source": [
    "vk.plot_projection(basis=\"diffmap\", color=[\"celltypes\",\"orig.ident\"], title=\"velocity stream of regenerating tail\", legend_loc=\"best\",\n",
    "    save=\"ET_embedstream_diffmap_celltype_velokernel1.png\")"
   ]
  },
  {
   "cell_type": "code",
   "execution_count": null,
   "id": "f25653bf",
   "metadata": {
    "scrolled": true
   },
   "outputs": [],
   "source": [
    "vk.plot_projection(basis=\"umap\", color=[\"celltypes\",\"orig.ident\"], title=\"velocity stream of regenerating tail\",\n",
    "    save=\"ET_embedstream_umap_celltype_velokernel1.png\")"
   ]
  },
  {
   "cell_type": "code",
   "execution_count": null,
   "id": "ad326665",
   "metadata": {},
   "outputs": [],
   "source": [
    "vk.plot_projection(basis=\"umap\", color=\"celltypes\", title=\"velocity stream of regenerating tail\", legend_fontsize=\"x-small\",\n",
    "    save=\"ET_embedstream_umap_celltype_velokernel.png\")"
   ]
  },
  {
   "cell_type": "code",
   "execution_count": null,
   "id": "5b31d3ac",
   "metadata": {},
   "outputs": [],
   "source": [
    "vk.plot_projection(basis=\"draw_graph_lgl\", color=\"celltypes\", title=\"velocity stream of regenerating tail\", legend_loc=\"best\",\n",
    "    save=\"ET_embedstream_lgl_celltype_velokernel.png\")"
   ]
  },
  {
   "cell_type": "code",
   "execution_count": null,
   "id": "9edf048d",
   "metadata": {},
   "outputs": [],
   "source": [
    "vk.plot_projection(basis=\"diffmap\", color=\"celltypes\", title=\"velocity stream of regenerating tail\", legend_loc=\"best\",\n",
    "    save=\"ET_embedstream_diffmap_celltype_velokernel.png\")"
   ]
  },
  {
   "cell_type": "code",
   "execution_count": null,
   "id": "51d36bdd",
   "metadata": {},
   "outputs": [],
   "source": [
    "vk.plot_projection(basis=\"draw_graph_drl\", color=\"celltypes\", title=\"velocity stream of regenerating tail\",\n",
    "    save=\"ET_embedstream_drl_celltype_velokernel.png\")"
   ]
  },
  {
   "cell_type": "code",
   "execution_count": null,
   "id": "06d5950a",
   "metadata": {},
   "outputs": [],
   "source": [
    "vk.plot_random_walks(\n",
    "    n_sims=100,\n",
    "    start_ixs={\"celltypes\": \"Tailbud mesenchymal cells\"},\n",
    "    basis=\"umap\",\n",
    "    color=\"celltypes\",\n",
    "    legend_loc=\"right\",\n",
    "    seed=1, save=\"ET_randomwalk_celltype_velokernel.png\", title=\"random walk simulation on embryonic tail\",\n",
    ")"
   ]
  },
  {
   "cell_type": "code",
   "execution_count": null,
   "id": "e141accf",
   "metadata": {},
   "outputs": [],
   "source": [
    "vk.plot_random_walks(\n",
    "    n_sims=100,\n",
    "    start_ixs={\"celltypes\": \"Tailbud mesenchymal cells\"},\n",
    "    basis=\"draw_graph_drl\",\n",
    "    color=\"celltypes\",\n",
    "    legend_loc=\"right\",\n",
    "    seed=1, save=\"ET_randomwalk_drl_celltype_velokernel.png\", title=\"random walk simulation on embryonic tail\",\n",
    ")"
   ]
  },
  {
   "cell_type": "code",
   "execution_count": null,
   "id": "78a319ca",
   "metadata": {},
   "outputs": [],
   "source": [
    "vk.plot_random_walks(\n",
    "    n_sims=100,\n",
    "    start_ixs={\"celltypes\": \"Tailbud mesenchymal cells\"},\n",
    "    basis=\"draw_graph_lgl\",\n",
    "    color=\"celltypes\",\n",
    "    legend_loc=\"right\",\n",
    "    seed=1, save=\"ET_randomwalk_lgl_celltype_velokernel.png\", title=\"random walk simulation on embryonic tail\",\n",
    ")"
   ]
  },
  {
   "cell_type": "code",
   "execution_count": null,
   "id": "dbead82a",
   "metadata": {},
   "outputs": [],
   "source": [
    "vk.plot_random_walks(\n",
    "    n_sims=100,\n",
    "    start_ixs={\"celltypes\": \"Tailbud mesenchymal cells\"},\n",
    "    basis=\"diffmap\",\n",
    "    color=\"celltypes\",\n",
    "    legend_loc=\"right\",\n",
    "    seed=1, save=\"ET_randomwalk_diffmap_celltype_velokernel.png\", title=\"random walk simulation on embryonic tail\",\n",
    ")"
   ]
  },
  {
   "cell_type": "code",
   "execution_count": null,
   "id": "8c26cd6a",
   "metadata": {},
   "outputs": [],
   "source": [
    "#adata_merge.obsm['X_diffmap'][:, 3].argmax()"
   ]
  },
  {
   "cell_type": "code",
   "execution_count": null,
   "id": "b310e447",
   "metadata": {},
   "outputs": [],
   "source": [
    "#root_ixs = 7866  # has been found using `adata.obsm['X_diffmap'][:, 3].argmax()`\n",
    "#scv.pl.scatter(\n",
    "#    adata_merge,\n",
    "#    basis=\"diffmap\",\n",
    "#    c=[\"celltypes\", root_ixs],\n",
    "#    legend_loc=\"right\",\n",
    "#    components=[\"2, 3\"],\n",
    "#)\n",
    "\n",
    "#adata_merge.uns[\"iroot\"] = root_ixs"
   ]
  },
  {
   "cell_type": "code",
   "execution_count": null,
   "id": "fe39c4a8",
   "metadata": {},
   "outputs": [],
   "source": [
    "g_fwd = cr.estimators.GPCCA(vk)\n",
    "print(g_fwd)"
   ]
  },
  {
   "cell_type": "code",
   "execution_count": null,
   "id": "a7f96296",
   "metadata": {},
   "outputs": [],
   "source": [
    "g_fwd.compute_schur(n_components=20)\n",
    "g_fwd.plot_spectrum(real_only=True)"
   ]
  },
  {
   "cell_type": "code",
   "execution_count": null,
   "id": "b9057211",
   "metadata": {},
   "outputs": [],
   "source": [
    "g_fwd.compute_macrostates(n_states=10, cluster_key=\"celltypes\")\n",
    "g_fwd.plot_macrostates( which=\"all\",\n",
    "    discrete=True, legend_loc=\"right\", size=100, basis=\"umap\", title=\"potential terminal macrostates on embryonic tail\",\n",
    "    save=\"ET_macrostate_celltype_velokernel.png\",\n",
    ")"
   ]
  },
  {
   "cell_type": "code",
   "execution_count": null,
   "id": "366dee9c",
   "metadata": {},
   "outputs": [],
   "source": [
    "g_fwd.plot_coarse_T(title=\"coarse-grained transition matrix of terminal macrostates\", save=\"ET_macrostatecoarse_celltype_velokernel.png\")"
   ]
  },
  {
   "cell_type": "code",
   "execution_count": null,
   "id": "d6b19da2",
   "metadata": {},
   "outputs": [],
   "source": [
    "g_fwd.plot_macrostate_composition(key=\"celltypes\", figsize=(7, 4), save=\"ET_distribution_celltype_velokernel.png\")"
   ]
  },
  {
   "cell_type": "code",
   "execution_count": null,
   "id": "75bc6a9a",
   "metadata": {},
   "outputs": [],
   "source": [
    "#g_fwd.compute_macrostates(n_states=5, cluster_key=\"celltypes\")\n",
    "g_fwd.set_terminal_states(states=[\"Chondrocytes\", \"Myocytes\", \"Endothelial cells\", \"Neurons_1\"])"
   ]
  },
  {
   "cell_type": "code",
   "execution_count": null,
   "id": "9a6f3ae1",
   "metadata": {},
   "outputs": [],
   "source": [
    "g_fwd.plot_macrostates(which=\"terminal\", same_plot=True, basis=\"draw_graph_fr\", \n",
    "                       legend_loc=\"right\", title= \"assigned terminal states\", discrete=True ,\n",
    "                           save=\"ET_ssignedterminalstate_fr_celltype_velokernel.png\")"
   ]
  },
  {
   "cell_type": "code",
   "execution_count": null,
   "id": "d1522033",
   "metadata": {},
   "outputs": [],
   "source": [
    "g_fwd.plot_macrostates(which=\"terminal\", same_plot=True, basis=\"draw_graph_lgl\", \n",
    "                       legend_loc=\"right\", title= \"assigned terminal states\", discrete=True ,\n",
    "                           save=\"ET_ssignedterminalstate_lgl_celltype_velokernel.png\")"
   ]
  },
  {
   "cell_type": "code",
   "execution_count": null,
   "id": "9a142019",
   "metadata": {},
   "outputs": [],
   "source": [
    "g_fwd.plot_macrostates(which=\"terminal\", same_plot=True, basis=\"draw_graph_lgl\", \n",
    "                       legend_loc=\"right\", title= \"assigned terminal states\", discrete=False ,\n",
    "                           save=\"ET_ssignedterminalstate_lgl_celltype_velokernel2.png\")"
   ]
  },
  {
   "cell_type": "code",
   "execution_count": null,
   "id": "ead1297d",
   "metadata": {},
   "outputs": [],
   "source": [
    "g_fwd.plot_macrostates(which=\"terminal\", same_plot=True, basis=\"diffmap\", \n",
    "                       legend_loc=\"right\", title= \"assigned terminal states\", discrete=True ,\n",
    "                           save=\"ET_ssignedterminalstate_diffmap_celltype_velokernel.png\")"
   ]
  },
  {
   "cell_type": "code",
   "execution_count": null,
   "id": "040c1042",
   "metadata": {},
   "outputs": [],
   "source": [
    "g_fwd.plot_macrostates(which=\"terminal\", same_plot=True, basis=\"diffmap\", \n",
    "                       legend_loc=\"right\", title= \"assigned terminal states\", discrete=False ,\n",
    "                           save=\"ET_ssignedterminalstate_diffmap_celltype_velokernel2.png\")"
   ]
  },
  {
   "cell_type": "code",
   "execution_count": null,
   "id": "549a9845",
   "metadata": {},
   "outputs": [],
   "source": [
    "g_fwd.plot_macrostates(which=\"terminal\", same_plot=True, basis=\"umap\", \n",
    "                       legend_loc=\"right\", title= \"assigned terminal states\", discrete=True ,\n",
    "                           save=\"ET_ssignedterminalstate_umap_celltype_velokernel.png\")"
   ]
  },
  {
   "cell_type": "code",
   "execution_count": null,
   "id": "a5bc3c47",
   "metadata": {},
   "outputs": [],
   "source": [
    "g_fwd.plot_macrostates(which=\"terminal\", same_plot=True, basis=\"umap\", \n",
    "                       legend_loc=\"right\", title= \"assigned terminal states\", discrete=False ,\n",
    "                           save=\"ET_ssignedterminalstate_umap_celltype_velokernel2.png\")"
   ]
  },
  {
   "cell_type": "code",
   "execution_count": null,
   "id": "562d650a",
   "metadata": {},
   "outputs": [],
   "source": [
    "g_fwd.compute_fate_probabilities()\n",
    "g_fwd.plot_fate_probabilities(same_plot=False, size=100, basis=\"draw_graph_lgl\", ncols=1, \n",
    "                                    save=\"ET_absorbfate_lgl_celltype_velokernel.png\",\n",
    ")"
   ]
  },
  {
   "cell_type": "code",
   "execution_count": null,
   "id": "e65ed42f",
   "metadata": {},
   "outputs": [],
   "source": [
    "g_fwd.plot_fate_probabilities(same_plot=False, size=100, basis=\"diffmap\", ncols=1, \n",
    "                                    save=\"ET_absorbfate_diffmap_celltype_velokernel.png\",\n",
    ")"
   ]
  },
  {
   "cell_type": "code",
   "execution_count": null,
   "id": "6d1a43cb",
   "metadata": {},
   "outputs": [],
   "source": [
    "g_fwd.plot_fate_probabilities(same_plot=False, size=100, basis=\"umap\", ncols=1, \n",
    "                                    save=\"ET_absorbfate_umap_celltype_velokernel.png\",\n",
    ")"
   ]
  },
  {
   "cell_type": "code",
   "execution_count": null,
   "id": "c7e76b96",
   "metadata": {},
   "outputs": [],
   "source": [
    "#g_fwd.predict_initial_states(allow_overlap=True)\n",
    "#g_fwd.plot_macrostates(which=\"initial\", legend_loc=\"right\", s=100)"
   ]
  },
  {
   "cell_type": "code",
   "execution_count": null,
   "id": "fca6ea08",
   "metadata": {},
   "outputs": [],
   "source": [
    "Chondro_drivers = g_fwd.compute_lineage_drivers(lineages=\"Chondrocytes\", return_drivers=True)\n",
    "Chondro_drivers.sort_values(by=\"Chondrocytes_corr\", ascending=False)"
   ]
  },
  {
   "cell_type": "code",
   "execution_count": null,
   "id": "6258beb2",
   "metadata": {},
   "outputs": [],
   "source": [
    "g_fwd.plot_lineage_drivers(\"Chondrocytes\", \n",
    "                           basis=\"draw_graph_fr\", \n",
    "                           n_genes=12, ncols=4, \n",
    "                           save=\"ET_lineagedriver_Chondrocytes_velokernel.png\")"
   ]
  },
  {
   "cell_type": "code",
   "execution_count": null,
   "id": "a11060ca",
   "metadata": {},
   "outputs": [],
   "source": [
    "g_fwd.plot_lineage_drivers(\"Chondrocytes\", \n",
    "                           basis=\"draw_graph_lgl\", \n",
    "                           n_genes=12, ncols=4, \n",
    "                           save=\"ET_lineagedriver_Chondrocytes_lgl_velokernel.png\")"
   ]
  },
  {
   "cell_type": "code",
   "execution_count": null,
   "id": "336518e1",
   "metadata": {},
   "outputs": [],
   "source": [
    "g_fwd.plot_lineage_drivers(\"Chondrocytes\", \n",
    "                           basis=\"diffmap\", \n",
    "                           n_genes=12, ncols=4, \n",
    "                           save=\"ET_lineagedriver_Chondrocytes_diffmap_velokernel.png\")"
   ]
  },
  {
   "cell_type": "code",
   "execution_count": null,
   "id": "50e2d1db",
   "metadata": {},
   "outputs": [],
   "source": [
    "Neuron_drivers = g_fwd.compute_lineage_drivers(lineages=\"Neurons_1\", return_drivers=True)\n",
    "Neuron_drivers.sort_values(by=\"Neurons_1_corr\", ascending=False)"
   ]
  },
  {
   "cell_type": "code",
   "execution_count": null,
   "id": "474939da",
   "metadata": {},
   "outputs": [],
   "source": [
    "g_fwd.plot_lineage_drivers(\"Neurons_1\", \n",
    "                           basis=\"draw_graph_lgl\", \n",
    "                           n_genes=12, ncols=4, \n",
    "                           save=\"ET_lineagedriver_Neurons_lgl_velokernel.png\")"
   ]
  },
  {
   "cell_type": "code",
   "execution_count": null,
   "id": "b9f81cc3",
   "metadata": {},
   "outputs": [],
   "source": [
    "g_fwd.plot_lineage_drivers(\"Neurons_1\", \n",
    "                           basis=\"diffmap\", \n",
    "                           n_genes=12, ncols=4, \n",
    "                           save=\"ET_lineagedriver_Neurons_diffmap_velokernel.png\")"
   ]
  },
  {
   "cell_type": "code",
   "execution_count": null,
   "id": "5aea2f91",
   "metadata": {},
   "outputs": [],
   "source": [
    "#cart_drivers = g_fwd.compute_lineage_drivers(lineages=\"Cartilage progenitor cell\", return_drivers=True)\n",
    "#cart_drivers.sort_values(by=\"Cartilage progenitor cell_corr\", ascending=False)"
   ]
  },
  {
   "cell_type": "code",
   "execution_count": null,
   "id": "2a68d903",
   "metadata": {},
   "outputs": [],
   "source": [
    "cr.pl.circular_projection(adata_merge, keys=[\"kl_divergence\",\"celltypes\"], figsize=[15,5] ,\n",
    "                          legend_loc=\"right\", ncols=2,\n",
    "                          save=\"ET_circularprojection_velokernel.png\")"
   ]
  },
  {
   "cell_type": "code",
   "execution_count": null,
   "id": "2f6bc47a",
   "metadata": {},
   "outputs": [],
   "source": [
    "vk2 = VelocityKernel(adata_merge, backward=True).compute_transition_matrix()\n",
    "print(vk)"
   ]
  },
  {
   "cell_type": "code",
   "execution_count": null,
   "id": "848d105f",
   "metadata": {},
   "outputs": [],
   "source": [
    "vk2.plot_projection(basis=\"draw_graph_fr\", color=[\"celltypes\",\"orig.ident\"], \n",
    "                     title=\"backward velocity stream of regenerating tail\", \n",
    "                     save=\"ET_embedstream_fr_celltype_bwd_cytokernel.png\")"
   ]
  },
  {
   "cell_type": "code",
   "execution_count": null,
   "id": "6c02072e",
   "metadata": {},
   "outputs": [],
   "source": [
    "vk2.plot_projection(basis=\"draw_graph_lgl\", color=[\"celltypes\",\"orig.ident\"], \n",
    "                     title=\"backward velocity stream of regenerating tail\", legend_loc=\"best\",\n",
    "                     save=\"ET_embedstream_lgl_celltype_bwd_cytokernel.png\")"
   ]
  },
  {
   "cell_type": "code",
   "execution_count": null,
   "id": "e2bb9f96",
   "metadata": {},
   "outputs": [],
   "source": [
    "vk2.plot_projection(basis=\"diffmap\", color=[\"celltypes\",\"orig.ident\"], \n",
    "                     title=\"backward velocity stream of regenerating tail\", legend_loc=\"best\",\n",
    "                     save=\"ET_embedstream_diffmap_celltype_bwd_cytokernel.png\")"
   ]
  },
  {
   "cell_type": "code",
   "execution_count": null,
   "id": "c4182398",
   "metadata": {},
   "outputs": [],
   "source": [
    "vk2.plot_projection(basis=\"umap\", color=[\"celltypes\",\"orig.ident\"], \n",
    "                     title=\"backward velocity stream of regenerating tail\",\n",
    "                     save=\"ET_embedstream_umap_celltype_bwd_cytokernel.png\")"
   ]
  },
  {
   "cell_type": "code",
   "execution_count": null,
   "id": "5aed6ea3",
   "metadata": {},
   "outputs": [],
   "source": [
    "g_bwd = GPCCA(vk2)\n",
    "print(g_bwd)"
   ]
  },
  {
   "cell_type": "code",
   "execution_count": null,
   "id": "0c106f87",
   "metadata": {},
   "outputs": [],
   "source": [
    "g_bwd.compute_schur(n_components=20)\n",
    "g_bwd.plot_spectrum(real_only=True)"
   ]
  },
  {
   "cell_type": "code",
   "execution_count": null,
   "id": "2d18b8d1",
   "metadata": {
    "scrolled": true
   },
   "outputs": [],
   "source": [
    "g_bwd.compute_macrostates(n_states=9, cluster_key=\"celltypes\")\n",
    "g_bwd.plot_macrostates( which=\"all\",\n",
    "    discrete=True, legend_loc=\"right\", size=100, basis=\"umap\", title=\"potential initial macrostates on embryonic tail\",\n",
    "    save=\"ET_macrostate_init_stage_celltype_velokernel.png\",\n",
    ")"
   ]
  },
  {
   "cell_type": "code",
   "execution_count": null,
   "id": "a313a9b3",
   "metadata": {},
   "outputs": [],
   "source": [
    "g_bwd.plot_coarse_T(title=\"coarse-grained transition matrix of initial macrostates\", save=\"ET_macrostatecoarse_celltype_bwd_velokernel.png\")"
   ]
  },
  {
   "cell_type": "code",
   "execution_count": null,
   "id": "a0277ee8",
   "metadata": {},
   "outputs": [],
   "source": [
    "g_bwd.set_terminal_states(states=[\"Tailbud mesenchymal cells\", \"Neuroblasts\"])"
   ]
  },
  {
   "cell_type": "code",
   "execution_count": null,
   "id": "9f6c66fb",
   "metadata": {},
   "outputs": [],
   "source": [
    "g_bwd.plot_macrostates( which=\"terminal\",\n",
    "    discrete=True, legend_loc=\"right\", size=100, basis=\"umap\", title=\"Assigned initial macrostates on embryonic tail\",\n",
    "    save=\"ET_assignedinitstage_celltype_velokernel.png\",\n",
    ")"
   ]
  },
  {
   "cell_type": "code",
   "execution_count": null,
   "id": "252c80b8",
   "metadata": {},
   "outputs": [],
   "source": [
    "g_bwd.plot_macrostates( which=\"terminal\",\n",
    "    discrete=True, legend_loc=\"right\", size=100, basis=\"draw_graph_lgl\", title=\"Assigned initial macrostates on embryonic tail\",\n",
    "    save=\"ET_assignedinitstage_lgl_celltype_velokernel.png\",\n",
    ")"
   ]
  },
  {
   "cell_type": "code",
   "execution_count": null,
   "id": "fbf72f85",
   "metadata": {},
   "outputs": [],
   "source": [
    "g_bwd.compute_fate_probabilities(tol=1e-8, solver='direct')\n",
    "g_bwd.plot_fate_probabilities(same_plot=False, size=50, basis=\"draw_graph_lgl\", ncols=2,\n",
    "                                    save=\"ET_fateprob_initialstate_lgl_cytokernel.png\")"
   ]
  },
  {
   "cell_type": "code",
   "execution_count": null,
   "id": "e38032ce",
   "metadata": {},
   "outputs": [],
   "source": [
    "g_bwd.plot_fate_probabilities(same_plot=False, size=50, basis=\"diffmap\", ncols=2,\n",
    "                                    save=\"ET_fateprob_initialstate_diffmap_cytokernel.png\")"
   ]
  },
  {
   "cell_type": "code",
   "execution_count": null,
   "id": "caaf19d5",
   "metadata": {},
   "outputs": [],
   "source": [
    "scv.tl.recover_dynamics(adata_merge, n_jobs=20)"
   ]
  },
  {
   "cell_type": "code",
   "execution_count": null,
   "id": "a0b56a37",
   "metadata": {},
   "outputs": [],
   "source": [
    "scv.tl.recover_latent_time(\n",
    "    adata_merge,  root_key=\"term_states_bwd_probs\", end_key=\"term_states_fwd_probs\"\n",
    ")"
   ]
  },
  {
   "cell_type": "code",
   "execution_count": null,
   "id": "1f573b81",
   "metadata": {},
   "outputs": [],
   "source": [
    "scv.tl.paga(\n",
    "    adata_merge,\n",
    "    groups=\"celltypes\",\n",
    "    root_key=\"term_states_bwd_probs\",\n",
    "    end_key=\"term_states_fwd_probs\",\n",
    "    use_time_prior=\"velocity_pseudotime\",\n",
    ")"
   ]
  },
  {
   "cell_type": "code",
   "execution_count": null,
   "id": "62f86285",
   "metadata": {},
   "outputs": [],
   "source": [
    "cr.pl.aggregate_fate_probabilities(adata_merge, \n",
    "                                         mode=\"paga_pie\", \n",
    "                                         backward=False, lineages=None, \n",
    "                                         cluster_key='celltypes', clusters=None, \n",
    "                                         basis=\"draw_graph_lgl\", cbar=True, \n",
    "                                         ncols=None, sharey=False, fmt='0.2f', xrot=90,\n",
    "                                         legend_kwargs={'loc':  \"top right out\"},\n",
    "                                         title=\"directed PAGA\",\n",
    "                                         save=\"ET_directed_PAGA_lgl_velokernel.png\")"
   ]
  },
  {
   "cell_type": "code",
   "execution_count": null,
   "id": "adb5ff2b",
   "metadata": {},
   "outputs": [],
   "source": [
    "cr.pl.aggregate_fate_probabilities(adata_merge, \n",
    "                                         mode=\"paga_pie\", \n",
    "                                         backward=False, lineages=None, \n",
    "                                         cluster_key='celltypes', clusters=None, \n",
    "                                         basis=\"draw_graph_fr\", cbar=True, \n",
    "                                         ncols=None, sharey=False, fmt='0.2f', xrot=90, \n",
    "                                         legend_kwargs={'loc':  \"top right out\"},\n",
    "                                         title=\"directed PAGA\",\n",
    "                                         save=\"ET_directed_PAGA_fr_velokernel.png\")"
   ]
  },
  {
   "cell_type": "code",
   "execution_count": null,
   "id": "ab59bdeb",
   "metadata": {},
   "outputs": [],
   "source": [
    "cr.pl.aggregate_fate_probabilities(adata_merge, \n",
    "                                         mode=\"paga_pie\", \n",
    "                                         backward=False, lineages=None, \n",
    "                                         cluster_key='celltypes', clusters=None, \n",
    "                                         basis=\"diffmap\", cbar=True, \n",
    "                                         ncols=None, sharey=False, fmt='0.2f', xrot=90, fontsize=0,\n",
    "                                         legend_kwargs={'loc':  \"top right out\"},\n",
    "                                         title=\"directed PAGA\",\n",
    "                                         save=\"ET_directed_PAGA_diffmap_velokernel.png\")"
   ]
  },
  {
   "cell_type": "code",
   "execution_count": null,
   "id": "6cdd86fd",
   "metadata": {},
   "outputs": [],
   "source": [
    "cr.pl.aggregate_fate_probabilities(adata_merge, \n",
    "                                         mode=\"paga_pie\", \n",
    "                                         backward=False, lineages=None, \n",
    "                                         cluster_key='celltypes', clusters=None, \n",
    "                                         basis=\"draw_graph_drl\", cbar=True, \n",
    "                                         ncols=None, sharey=False, fmt='0.2f', xrot=90, \n",
    "                                         legend_kwargs={'loc':  \"top right out\"},\n",
    "                                         title=\"directed PAGA\",\n",
    "                                         save=\"ET_directed_PAGA_drl_velokernel.png\")"
   ]
  },
  {
   "cell_type": "code",
   "execution_count": null,
   "id": "c8b80935",
   "metadata": {},
   "outputs": [],
   "source": [
    "cr.pl.aggregate_fate_probabilities(\n",
    "    adata_merge,\n",
    "    mode=\"violin\",\n",
    "    lineages=[\"Chondrocytes\", \"Myocytes\",\"Endothelial cells\", \"Neurons_1\"],\n",
    "    cluster_key=\"celltypes\", ncols=4, #figsize=[5,15] # xrot=45, \n",
    "    save=\"ET_fate_probs_violin_velokernel.png\"\n",
    ")"
   ]
  },
  {
   "cell_type": "code",
   "execution_count": null,
   "id": "aadf7c31",
   "metadata": {},
   "outputs": [],
   "source": [
    "cr.pl.aggregate_fate_probabilities(\n",
    "    adata_merge,\n",
    "    mode=\"heatmap\",\n",
    "    lineages=[\"Chondrocytes\", \"Myocytes\",\"Endothelial cells\", \"Neurons_1\"],\n",
    "    cluster_key=\"celltypes\", ncols=3, #figsize=[5,15] # xrot=45, \n",
    "    save=\"ET_fate_probs_heatmap_velokernel.png\",\n",
    ")"
   ]
  },
  {
   "cell_type": "code",
   "execution_count": null,
   "id": "54c0a5a6",
   "metadata": {},
   "outputs": [],
   "source": [
    "model = cr.models.GAM(adata_merge)"
   ]
  },
  {
   "cell_type": "code",
   "execution_count": null,
   "id": "66777c34",
   "metadata": {},
   "outputs": [],
   "source": [
    "cr.pl.heatmap(\n",
    "    adata_merge,\n",
    "    model=model,  # use the model from before\n",
    "    lineages=\"Chondrocytes\",\n",
    "    cluster_key=\"celltypes\",\n",
    "    show_fate_probabilities=True,\n",
    "    data_key=\"magic_imputed_data\",\n",
    "    genes=Chondro_drivers.head(40).index,\n",
    "    time_key=\"ct_pseudotime\",\n",
    "    figsize=(12, 10),\n",
    "    show_all_genes=True,\n",
    "    weight_threshold=(1e-3, 1e-3),\n",
    ")"
   ]
  },
  {
   "cell_type": "code",
   "execution_count": null,
   "id": "d1dfe737",
   "metadata": {},
   "outputs": [],
   "source": [
    "cr.pl.gene_trends(\n",
    "    adata_merge,\n",
    "    model,\n",
    "    [\"SHH\",\"COL2A1\",\"MYOG\",\"MYOD1\",\"CKM\",\"MYL11\",\"TNNT2\",\"DES\",\"SPP1\",\"COL1A1\",\"COL1A2\"],\n",
    "    data_key=\"Ms\",\n",
    "    same_plot=True,\n",
    "    hide_cells=True,\n",
    "    time_key=\"ct_pseudotime\",\n",
    "    show_progress_bar=False, save=\"ET_genetrend_2.png\",\n",
    ")"
   ]
  },
  {
   "cell_type": "code",
   "execution_count": null,
   "id": "42705a3a",
   "metadata": {},
   "outputs": [],
   "source": []
  },
  {
   "cell_type": "code",
   "execution_count": null,
   "id": "4056efae",
   "metadata": {},
   "outputs": [],
   "source": []
  },
  {
   "cell_type": "code",
   "execution_count": null,
   "id": "c9f977d5",
   "metadata": {},
   "outputs": [],
   "source": [
    "adata_merge"
   ]
  },
  {
   "cell_type": "code",
   "execution_count": null,
   "id": "bef1cb58",
   "metadata": {},
   "outputs": [],
   "source": [
    "sc.pl.violin(adata_merge, keys=[\"latent_time\"], groupby=\"customclassif\", rotation=90, save=\"ET_cellrank_ctpseudotime_celltype.png\")"
   ]
  },
  {
   "cell_type": "code",
   "execution_count": null,
   "id": "fa971c52",
   "metadata": {},
   "outputs": [],
   "source": []
  }
 ],
 "metadata": {
  "kernelspec": {
   "display_name": "cellrank2",
   "language": "python",
   "name": "cellrank2"
  },
  "language_info": {
   "codemirror_mode": {
    "name": "ipython",
    "version": 3
   },
   "file_extension": ".py",
   "mimetype": "text/x-python",
   "name": "python",
   "nbconvert_exporter": "python",
   "pygments_lexer": "ipython3",
   "version": "3.9.18"
  }
 },
 "nbformat": 4,
 "nbformat_minor": 5
}
