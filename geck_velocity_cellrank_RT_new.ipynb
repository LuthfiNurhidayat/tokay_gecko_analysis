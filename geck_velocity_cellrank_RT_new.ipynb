{
 "cells": [
  {
   "cell_type": "code",
   "execution_count": null,
   "id": "5078a691",
   "metadata": {},
   "outputs": [],
   "source": [
    "import scvelo as scv\n",
    "import scanpy as sc\n",
    "import cellrank as cr\n",
    "import numpy as np\n",
    "import pandas as pd\n",
    "import anndata as ad\n",
    "import loompy\n",
    "import matplotlib as plt\n",
    "import igraph"
   ]
  },
  {
   "cell_type": "code",
   "execution_count": null,
   "id": "f93e0b6f",
   "metadata": {},
   "outputs": [],
   "source": [
    "# import CellRank kernels and estimators\n",
    "from cellrank.kernels import ConnectivityKernel\n",
    "from cellrank.kernels import CytoTRACEKernel\n",
    "from cellrank.kernels import VelocityKernel\n",
    "from cellrank.estimators import GPCCA"
   ]
  },
  {
   "cell_type": "code",
   "execution_count": null,
   "id": "136d7f9b",
   "metadata": {},
   "outputs": [],
   "source": [
    "scv.settings.verbosity = 3\n",
    "scv.settings.set_figure_params('scvelo', transparent=False, facecolor='white', dpi=200, dpi_save=500, frameon=False)\n",
    "cr.settings.verbosity = 2"
   ]
  },
  {
   "cell_type": "code",
   "execution_count": null,
   "id": "da68d5d5",
   "metadata": {},
   "outputs": [],
   "source": [
    "adata = sc.read_h5ad(\"F:/Gekko_Gecko/SingleCell_Analysis/SC_Analysis_Seurat/allRT.integrated_celltypes_filt.h5ad\")\n",
    "adata"
   ]
  },
  {
   "cell_type": "code",
   "execution_count": null,
   "id": "519be9f2",
   "metadata": {},
   "outputs": [],
   "source": [
    "ldata3 = scv.read('F:/Gekko_Gecko/SingleCell_Analysis/velodata/RT_16dpa.loom', cache=True)\n",
    "ldata4 = scv.read('F:/Gekko_Gecko/SingleCell_Analysis/velodata/RT_20dpa.loom', cache=True)\n",
    "ldata5 = scv.read('F:/Gekko_Gecko/SingleCell_Analysis/velodata/RT_24dpa.loom', cache=True)\n",
    "ldata6 = scv.read('F:/Gekko_Gecko/SingleCell_Analysis/velodata/RT_28dpa.loom', cache=True)"
   ]
  },
  {
   "cell_type": "code",
   "execution_count": null,
   "id": "40e87239",
   "metadata": {
    "scrolled": true
   },
   "outputs": [],
   "source": [
    "barcodes = [bc.split(':')[1] for bc in ldata3.obs.index.tolist()]\n",
    "barcodes = ['RT_16dpa_' + bc[0:len(bc)-1] + '-1' for bc in barcodes]\n",
    "ldata3.obs.index = barcodes\n",
    "ldata3.obs.index"
   ]
  },
  {
   "cell_type": "code",
   "execution_count": null,
   "id": "ae1ad28f",
   "metadata": {},
   "outputs": [],
   "source": [
    "barcodes = [bc.split(':')[1] for bc in ldata4.obs.index.tolist()]\n",
    "barcodes = ['RT_20dpa_' + bc[0:len(bc)-1] + '-1' for bc in barcodes]\n",
    "ldata4.obs.index = barcodes\n",
    "ldata4.obs.index"
   ]
  },
  {
   "cell_type": "code",
   "execution_count": null,
   "id": "7ba90432",
   "metadata": {},
   "outputs": [],
   "source": [
    "barcodes = [bc.split(':')[1] for bc in ldata5.obs.index.tolist()]\n",
    "barcodes = ['RT_24dpa_' + bc[0:len(bc)-1] + '-1' for bc in barcodes]\n",
    "ldata5.obs.index = barcodes\n",
    "ldata5.obs.index"
   ]
  },
  {
   "cell_type": "code",
   "execution_count": null,
   "id": "5598fe3d",
   "metadata": {
    "scrolled": true
   },
   "outputs": [],
   "source": [
    "barcodes = [bc.split(':')[1] for bc in ldata6.obs.index.tolist()]\n",
    "barcodes = ['RT_28dpa_' + bc[0:len(bc)-1] + '-1' for bc in barcodes]\n",
    "ldata6.obs.index = barcodes\n",
    "ldata6.obs.index"
   ]
  },
  {
   "cell_type": "code",
   "execution_count": null,
   "id": "1f0f61fc",
   "metadata": {},
   "outputs": [],
   "source": [
    "# make variable names unique\n",
    "ldata3.var_names_make_unique()\n",
    "ldata4.var_names_make_unique()\n",
    "ldata5.var_names_make_unique()\n",
    "ldata6.var_names_make_unique()"
   ]
  },
  {
   "cell_type": "code",
   "execution_count": null,
   "id": "ac8e5a50",
   "metadata": {},
   "outputs": [],
   "source": [
    "adata.obs.index"
   ]
  },
  {
   "cell_type": "code",
   "execution_count": null,
   "id": "f9b27d35",
   "metadata": {},
   "outputs": [],
   "source": [
    "# concatenate the six loom\n",
    "ldata_RT = ldata3.concatenate([ldata4, ldata5, ldata6])"
   ]
  },
  {
   "cell_type": "code",
   "execution_count": null,
   "id": "391b1308",
   "metadata": {},
   "outputs": [],
   "source": [
    "#clean the sample barcodes and save the sample name to sampel_batch\n",
    "scv.utils.clean_obs_names(adata)\n",
    "scv.utils.clean_obs_names(ldata_RT)"
   ]
  },
  {
   "cell_type": "code",
   "execution_count": null,
   "id": "6109ed8e",
   "metadata": {},
   "outputs": [],
   "source": [
    "adata_merge = scv.utils.merge(adata, ldata_RT)\n",
    "adata_merge"
   ]
  },
  {
   "cell_type": "code",
   "execution_count": null,
   "id": "185b8b67",
   "metadata": {},
   "outputs": [],
   "source": [
    "adata_merge.__dict__['_raw'].__dict__['_var'] = adata_merge.__dict__['_raw'].__dict__['_var'].rename(columns={'_index': 'features'})\n",
    "adata_merge.write('F:/Gekko_Gecko/SingleCell_Analysis/SC_Analysis_Seurat/adataveloraw_RT.h5ad')"
   ]
  },
  {
   "cell_type": "code",
   "execution_count": null,
   "id": "ee67c6d2",
   "metadata": {},
   "outputs": [],
   "source": [
    "sc.pl.umap(adata_merge, color='celltypes', frameon=False, legend_loc='right margin', title='', save=None)"
   ]
  },
  {
   "cell_type": "code",
   "execution_count": null,
   "id": "5d239fee",
   "metadata": {},
   "outputs": [],
   "source": [
    "scv.pl.proportions(adata_merge, groupby='celltypes', layers=None, highlight='unspliced', add_labels_pie=True, add_labels_bar=True, fontsize=10, figsize=(15, 3), dpi=500, use_raw=True, show=True, save=\"RT_proportioncell.png\")"
   ]
  },
  {
   "cell_type": "code",
   "execution_count": null,
   "id": "5712e8d5",
   "metadata": {},
   "outputs": [],
   "source": [
    "sc.pp.neighbors(adata_merge)"
   ]
  },
  {
   "cell_type": "code",
   "execution_count": null,
   "id": "5a97d335",
   "metadata": {},
   "outputs": [],
   "source": [
    "sc.tl.draw_graph(adata_merge, layout='fr')\n",
    "sc.tl.draw_graph(adata_merge, layout='drl')"
   ]
  },
  {
   "cell_type": "code",
   "execution_count": null,
   "id": "26919f19",
   "metadata": {},
   "outputs": [],
   "source": [
    "adata_merge.obsm"
   ]
  },
  {
   "cell_type": "code",
   "execution_count": null,
   "id": "c560d6c5",
   "metadata": {},
   "outputs": [],
   "source": [
    "sc.pl.embedding(\n",
    "    adata_merge,\n",
    "    basis=\"draw_graph_drl\",\n",
    "    color=[\"orig.ident\", \"celltypes\"],\n",
    "    color_map=\"gnuplot\", save=\"RT_force-directed_drl.png\",\n",
    ")"
   ]
  },
  {
   "cell_type": "code",
   "execution_count": null,
   "id": "bf96499f",
   "metadata": {},
   "outputs": [],
   "source": [
    "sc.pl.embedding(\n",
    "    adata_merge,\n",
    "    basis=\"draw_graph_fr\",\n",
    "    color=[\"orig.ident\", \"celltypes\"],\n",
    "    color_map=\"gnuplot\", save=\"RT_force-directed_fr.png\",\n",
    ")"
   ]
  },
  {
   "cell_type": "code",
   "execution_count": null,
   "id": "5efa30f9",
   "metadata": {},
   "outputs": [],
   "source": [
    "scv.pp.filter_and_normalize(adata_merge)"
   ]
  },
  {
   "cell_type": "code",
   "execution_count": null,
   "id": "9fc74d13",
   "metadata": {},
   "outputs": [],
   "source": [
    "scv.pp.moments(adata_merge)"
   ]
  },
  {
   "cell_type": "code",
   "execution_count": null,
   "id": "764e0b6d",
   "metadata": {},
   "outputs": [],
   "source": [
    "ctk = CytoTRACEKernel(adata_merge).compute_cytotrace()"
   ]
  },
  {
   "cell_type": "code",
   "execution_count": null,
   "id": "043df261",
   "metadata": {},
   "outputs": [],
   "source": [
    "scv.pl.scatter(\n",
    "    adata_merge,\n",
    "    c=[\"ct_pseudotime\",\"ct_score\",\"ct_num_exp_genes\" ],\n",
    "    basis=\"draw_graph_drl\",\n",
    "    legend_loc=\"right\",\n",
    "    color_map=\"gnuplot2\", save=\"RT_force-directed_ctpseudotime.png\",\n",
    ")"
   ]
  },
  {
   "cell_type": "code",
   "execution_count": null,
   "id": "306d26b6",
   "metadata": {},
   "outputs": [],
   "source": [
    "scv.pl.scatter(\n",
    "    adata_merge,\n",
    "    c=[\"ct_pseudotime\",\"ct_score\",\"ct_num_exp_genes\"],\n",
    "    basis=\"umap\",\n",
    "    legend_loc=\"right\",\n",
    "    color_map=\"gnuplot2\", save=\"RT_umap_ctpseudotime.png\",\n",
    ")"
   ]
  },
  {
   "cell_type": "code",
   "execution_count": null,
   "id": "6d9283dd",
   "metadata": {},
   "outputs": [],
   "source": [
    "sc.pl.violin(adata_merge, keys=[\"ct_pseudotime\",\"ct_score\",\"ct_num_exp_genes\"], groupby=\"orig.ident\", rotation=90, save=\"RT_cellrank_ctpseudotime_stages.png\")"
   ]
  },
  {
   "cell_type": "code",
   "execution_count": null,
   "id": "9e5468f1",
   "metadata": {},
   "outputs": [],
   "source": [
    "sc.pl.violin(adata_merge, keys=[\"ct_pseudotime\",\"ct_score\",\"ct_num_exp_genes\"], groupby=\"celltypes\", rotation=90, save=\"RT_cellrank_ctpseudotime_celltype.png\")"
   ]
  },
  {
   "cell_type": "code",
   "execution_count": null,
   "id": "6a31af15",
   "metadata": {},
   "outputs": [],
   "source": [
    "ctk.compute_transition_matrix(threshold_scheme=\"hard\",) #nu=0.5"
   ]
  },
  {
   "cell_type": "code",
   "execution_count": null,
   "id": "b122ba83",
   "metadata": {},
   "outputs": [],
   "source": [
    "ctk.plot_projection(basis=\"draw_graph_drl\", color=[\"celltypes\",\"orig.ident\"], title=\"velocity stream of regenerating tail\", \n",
    "    save=\"RT_embedstream_drl_celltype_cytokernel1.png\")"
   ]
  },
  {
   "cell_type": "code",
   "execution_count": null,
   "id": "8d0c0244",
   "metadata": {},
   "outputs": [],
   "source": [
    "scv.pl.velocity_embedding_stream(\n",
    "    adata_merge, \n",
    "   color=[\"celltypes\"], \n",
    "    vkey=\"T_fwd\", basis=\"draw_graph_drl\", legend_loc=\"right\", title=\"velocity stream of regenerating tail\", \n",
    "    save=\"RT_embedstream_drl_celltype_cytokernel.png\")"
   ]
  },
  {
   "cell_type": "code",
   "execution_count": null,
   "id": "1ac2d69f",
   "metadata": {},
   "outputs": [],
   "source": [
    "scv.pl.velocity_embedding_stream(\n",
    "    adata_merge, color=\"orig.ident\", vkey=\"T_fwd\", basis=\"draw_graph_drl\",\n",
    "legend_loc=\"right\", title=\"velocity stream of regenerating tail\",\n",
    "  save=\"RT_embedstream_drl_stage_cytokernel.png\")"
   ]
  },
  {
   "cell_type": "code",
   "execution_count": null,
   "id": "ffd4c4dc",
   "metadata": {},
   "outputs": [],
   "source": [
    "ctk.plot_projection(basis=\"umap\", color=[\"celltypes\", \"orig.ident\"], title=\"velocity stream of regenerating tail\", \n",
    "    save=\"RT_embedstream_umap_celltype_cytokernel1.png\")"
   ]
  },
  {
   "cell_type": "code",
   "execution_count": null,
   "id": "747df29f",
   "metadata": {},
   "outputs": [],
   "source": [
    "scv.pl.velocity_embedding_stream(\n",
    "    adata_merge, color=\"orig.ident\", vkey=\"T_fwd\", basis=\"umap\",\n",
    "legend_loc=\"right\", title=\"velocity stream of regenerating tail\",\n",
    "  save=\"RT_embedstream_umap_celltypes_cytokernel.png\")"
   ]
  },
  {
   "cell_type": "code",
   "execution_count": null,
   "id": "d9fc4677",
   "metadata": {},
   "outputs": [],
   "source": [
    "scv.pl.velocity_embedding_stream(\n",
    "    adata_merge, color=\"celltypes\", vkey=\"T_fwd\", basis=\"umap\",\n",
    "legend_loc=\"right\", title=\"velocity stream of regenerating tail\",\n",
    "  save=\"RT_embedstream_umap_celltypes_cytokernel.png\")"
   ]
  },
  {
   "cell_type": "code",
   "execution_count": null,
   "id": "2683ae0b",
   "metadata": {},
   "outputs": [],
   "source": [
    "ctk.plot_random_walks(\n",
    "    n_sims=15,\n",
    "    start_ixs={\"orig.ident\": \"RT_16dpa\"},\n",
    "    basis=\"draw_graph_drl\",\n",
    "    color=\"orig.ident\",\n",
    "    legend_loc=\"right\",\n",
    "    seed=1, save=\"RT_randomwalk_drl_stage_cytokernel.png\", title=\"random walk simulation on regenerating tail\",\n",
    ")"
   ]
  },
  {
   "cell_type": "code",
   "execution_count": null,
   "id": "6de4b4ff",
   "metadata": {},
   "outputs": [],
   "source": [
    "ctk.plot_random_walks(\n",
    "    n_sims=15,\n",
    "    start_ixs={\"orig.ident\": \"RT_16dpa\"},\n",
    "    basis=\"umap\",\n",
    "    color=\"celltypes\",\n",
    "    legend_loc=\"right\",\n",
    "    seed=1, title=\"random walk simulation on regenerating tail\", save=\"RT_randomwalk_celltype_cytokernel.png\",\n",
    ")"
   ]
  },
  {
   "cell_type": "code",
   "execution_count": null,
   "id": "b54d1907",
   "metadata": {},
   "outputs": [],
   "source": [
    "scv.tl.recover_dynamics(adata_merge, n_jobs=16)"
   ]
  },
  {
   "cell_type": "code",
   "execution_count": null,
   "id": "36831549",
   "metadata": {},
   "outputs": [],
   "source": [
    "scv.tl.velocity(adata_merge, mode=\"dynamical\")"
   ]
  },
  {
   "cell_type": "code",
   "execution_count": null,
   "id": "086c522d",
   "metadata": {},
   "outputs": [],
   "source": [
    "vk = cr.kernels.VelocityKernel(adata_merge)"
   ]
  },
  {
   "cell_type": "code",
   "execution_count": null,
   "id": "cb1106a7",
   "metadata": {},
   "outputs": [],
   "source": [
    "vk.compute_transition_matrix()"
   ]
  },
  {
   "cell_type": "code",
   "execution_count": null,
   "id": "d6a74419",
   "metadata": {},
   "outputs": [],
   "source": [
    "vk.plot_projection(basis=\"draw_graph_drl\", color=\"celltypes\")"
   ]
  },
  {
   "cell_type": "code",
   "execution_count": null,
   "id": "f1d7f718",
   "metadata": {},
   "outputs": [],
   "source": [
    "ck = cr.kernels.ConnectivityKernel(adata_merge)\n",
    "ck.compute_transition_matrix()\n",
    "\n",
    "comb_kernel = 0.6 * vk + 0.4 * ck"
   ]
  },
  {
   "cell_type": "code",
   "execution_count": null,
   "id": "eb15de54",
   "metadata": {},
   "outputs": [],
   "source": [
    "ck.plot_projection(basis=\"draw_graph_drl\", color=\"celltypes\")"
   ]
  },
  {
   "cell_type": "code",
   "execution_count": null,
   "id": "0d1807f5",
   "metadata": {},
   "outputs": [],
   "source": [
    "g_fwd = GPCCA(ctk)\n",
    "print(g_fwd)"
   ]
  },
  {
   "cell_type": "code",
   "execution_count": null,
   "id": "41977778",
   "metadata": {},
   "outputs": [],
   "source": [
    "g_fwd.compute_schur(n_components=20)\n",
    "g_fwd.plot_spectrum(real_only=True)"
   ]
  },
  {
   "cell_type": "code",
   "execution_count": null,
   "id": "f9f9643c",
   "metadata": {},
   "outputs": [],
   "source": [
    "g_fwd.compute_macrostates(n_states=11, cluster_key=\"celltypes\")"
   ]
  },
  {
   "cell_type": "code",
   "execution_count": null,
   "id": "92c84c8c",
   "metadata": {},
   "outputs": [],
   "source": [
    "g_fwd.plot_macrostates( \n",
    "    which=\"all\", discrete=True, legend_loc=\"right\", size=100, basis=\"draw_graph_drl\", title=\"potential terminal macrostates on regenerating tail\",\n",
    "    save=\"RT_macrostate_drl_celltype_cytokernel.png\",\n",
    ")"
   ]
  },
  {
   "cell_type": "code",
   "execution_count": null,
   "id": "1d32c067",
   "metadata": {},
   "outputs": [],
   "source": [
    "g_fwd.plot_coarse_T(title=\"coarse-grained transition matrix of terminal macrostates\", \n",
    "                    save=\"RT_macrostatecoarse_celltype_cytokernel.png\")"
   ]
  },
  {
   "cell_type": "code",
   "execution_count": null,
   "id": "0a1b1893",
   "metadata": {},
   "outputs": [],
   "source": [
    "g_fwd.plot_macrostate_composition(key=\"celltypes\", save=\"RT_macrostatecomposition_celltype_cytokernel.png\")"
   ]
  },
  {
   "cell_type": "code",
   "execution_count": null,
   "id": "0f3f5005",
   "metadata": {},
   "outputs": [],
   "source": [
    "g_fwd.compute_macrostates(n_states=11, cluster_key=\"orig.ident\")\n",
    "g_fwd.plot_macrostates(\n",
    "    which=\"all\", discrete=True, legend_loc=\"right\", size=100, basis=\"draw_graph_drl\", title=\"potential terminal macrostates on regenerating tail\",\n",
    "    save=\"RT_macrostate_stage_cytokernel.png\"\n",
    ")"
   ]
  },
  {
   "cell_type": "code",
   "execution_count": null,
   "id": "fd7a122a",
   "metadata": {},
   "outputs": [],
   "source": [
    "g_fwd.plot_coarse_T(title=\"coarse-grained transition matrix of terminal macrostates\", save=\"RT_macrostatecoarse_stage_cytokernel.png\")"
   ]
  },
  {
   "cell_type": "code",
   "execution_count": null,
   "id": "3c7532dc",
   "metadata": {},
   "outputs": [],
   "source": [
    "g_fwd.compute_macrostates(n_states=11, cluster_key=\"celltypes\")\n",
    "g_fwd.plot_macrostates(\n",
    "    which=\"all\", discrete=True, legend_loc=\"right\", size=100, basis=\"draw_graph_drl\", title=\"potential terminal macrostates on regenerating tail\",\n",
    "    save=\"RT_macrostate_celltype_cytokernel.png\",\n",
    ")"
   ]
  },
  {
   "cell_type": "code",
   "execution_count": null,
   "id": "c74ad18c",
   "metadata": {},
   "outputs": [],
   "source": [
    "g_fwd.plot_coarse_T()"
   ]
  },
  {
   "cell_type": "code",
   "execution_count": null,
   "id": "2d0f9d19",
   "metadata": {},
   "outputs": [],
   "source": [
    "g_fwd.compute_macrostates(n_states=11, cluster_key=\"celltypes\")\n",
    "g_fwd.predict_terminal_states()"
   ]
  },
  {
   "cell_type": "code",
   "execution_count": null,
   "id": "63311509",
   "metadata": {},
   "outputs": [],
   "source": [
    "g_fwd.plot_macrostates(which=\"terminal\", same_plot=True, basis=\"draw_graph_drl\", legend_loc=\"right\", title= \"terminal states prediction\", save=\"RT_terminalstate_celltype_cytokernel.png\")"
   ]
  },
  {
   "cell_type": "code",
   "execution_count": null,
   "id": "e9459761",
   "metadata": {},
   "outputs": [],
   "source": [
    "g_fwd.plot_macrostates(which=\"terminal\", same_plot=True, basis=\"draw_graph_drl\", \n",
    "                       legend_loc=\"right\", title= \"terminal states memberships\",\n",
    "                       save=\"RT_terminalstate_celltype_cytokernel2.png\", discrete=False)"
   ]
  },
  {
   "cell_type": "code",
   "execution_count": null,
   "id": "e241043c",
   "metadata": {},
   "outputs": [],
   "source": [
    "g_fwd.predict_initial_states(allow_overlap=True)"
   ]
  },
  {
   "cell_type": "code",
   "execution_count": null,
   "id": "7eabeb7f",
   "metadata": {},
   "outputs": [],
   "source": [
    "g_fwd.plot_macrostates(which=\"initial\", same_plot=True, basis=\"draw_graph_drl\", \n",
    "                       legend_loc=\"right\", title= \"initial states prediction\",\n",
    "                       save=\"RT_initialstate_celltype_cytokernel.png\")"
   ]
  },
  {
   "cell_type": "code",
   "execution_count": null,
   "id": "4c2f7b97",
   "metadata": {},
   "outputs": [],
   "source": [
    "g_fwd.plot_macrostates(which=\"initial\", same_plot=True, basis=\"draw_graph_drl\", \n",
    "                       legend_loc=\"right\", title= \"initial states prediction\",\n",
    "                       save=\"RT_initialstate_celltype_cytokernel2.png\", discrete=False)"
   ]
  },
  {
   "cell_type": "code",
   "execution_count": null,
   "id": "21206e78",
   "metadata": {},
   "outputs": [],
   "source": [
    "g_fwd.compute_macrostates(n_states=11, cluster_key=\"celltypes\")\n",
    "g_fwd.set_terminal_states(states=[\"Myoblasts\",\"Erythroid cells\", \"Keratinocytes\",\"Myocytes\",\"Chondrocytes\"])"
   ]
  },
  {
   "cell_type": "code",
   "execution_count": null,
   "id": "24f1819d",
   "metadata": {},
   "outputs": [],
   "source": [
    "g_fwd.plot_macrostates(which=\"terminal\", same_plot=True, basis=\"draw_graph_drl\", \n",
    "                       legend_loc=\"right\", title= \"assigned terminal states\", \n",
    "                           save=\"RT_assignedterminalstate_celltype_cytokernel.png\")"
   ]
  },
  {
   "cell_type": "code",
   "execution_count": null,
   "id": "6c7be9ba",
   "metadata": {},
   "outputs": [],
   "source": [
    "g_fwd.plot_macrostates(which=\"terminal\", same_plot=True, basis=\"draw_graph_drl\", \n",
    "                       legend_loc=\"right\", title= \"assigned terminal states memberships\", discrete=False , \n",
    "                           save=\"RT_assignedterminalstate_celltype_cytokernel2.png\")"
   ]
  },
  {
   "cell_type": "code",
   "execution_count": null,
   "id": "d717e286",
   "metadata": {},
   "outputs": [],
   "source": [
    "g_fwd.compute_fate_probabilities()\n",
    "g_fwd.plot_fate_probabilities(same_plot=False, size=100, basis=\"draw_graph_drl\", ncols=3, \n",
    "                                    save=\"RT_absorbfate_celltype_cytokernel.png\",\n",
    ")"
   ]
  },
  {
   "cell_type": "code",
   "execution_count": null,
   "id": "ebbb8ea9",
   "metadata": {},
   "outputs": [],
   "source": [
    "Myoblasts_drivers = g_fwd.compute_lineage_drivers(lineages=\"Myoblasts\", return_drivers=True)\n",
    "Myoblasts_drivers.sort_values(by=\"Myoblasts_corr\", ascending=False)"
   ]
  },
  {
   "cell_type": "code",
   "execution_count": null,
   "id": "528e018a",
   "metadata": {},
   "outputs": [],
   "source": [
    "g_fwd.plot_lineage_drivers(\"Myoblasts\", \n",
    "                           basis=\"draw_graph_drl\", \n",
    "                           n_genes=12, ncols=3, \n",
    "                           save=\"RT_lineagedriver_Myoblasts_cytokernel.png\")"
   ]
  },
  {
   "cell_type": "code",
   "execution_count": null,
   "id": "b3734dc7",
   "metadata": {},
   "outputs": [],
   "source": [
    "Chondro_drivers = g_fwd.compute_lineage_drivers(lineages=\"Chondrocytes\", return_drivers=True)\n",
    "Chondro_drivers.sort_values(by=\"Chondrocytes_corr\", ascending=False)"
   ]
  },
  {
   "cell_type": "code",
   "execution_count": null,
   "id": "fb7ef823",
   "metadata": {},
   "outputs": [],
   "source": [
    "g_fwd.plot_lineage_drivers(\"Chondrocytes\", \n",
    "                           basis=\"draw_graph_drl\", \n",
    "                           n_genes=12, ncols=3, \n",
    "                           save=\"RT_lineagedriver_Chondrocytes_cytokernel.png\")"
   ]
  },
  {
   "cell_type": "code",
   "execution_count": null,
   "id": "62b902e9",
   "metadata": {},
   "outputs": [],
   "source": [
    "myocytes_drivers = g_fwd.compute_lineage_drivers(lineages=\"Myocytes\", return_drivers=True)\n",
    "myocytes_drivers.sort_values(by=\"Myocytes_corr\", ascending=False)"
   ]
  },
  {
   "cell_type": "code",
   "execution_count": null,
   "id": "754c8d55",
   "metadata": {},
   "outputs": [],
   "source": [
    "g_fwd.plot_lineage_drivers(\"Myocytes\", \n",
    "                           basis=\"draw_graph_drl\", \n",
    "                           n_genes=12, ncols=3, \n",
    "                           save=\"RT_lineagedriver_Myocytes_cytokernel.png\")"
   ]
  },
  {
   "cell_type": "code",
   "execution_count": null,
   "id": "b455702a",
   "metadata": {},
   "outputs": [],
   "source": [
    "Kera_drivers = g_fwd.compute_lineage_drivers(lineages=\"Keratinocytes\", return_drivers=True)\n",
    "Kera_drivers.sort_values(by=\"Keratinocytes_corr\", ascending=False)"
   ]
  },
  {
   "cell_type": "code",
   "execution_count": null,
   "id": "ec6fa0de",
   "metadata": {},
   "outputs": [],
   "source": [
    "g_fwd.plot_lineage_drivers(\"Keratinocytes\", \n",
    "                           basis=\"draw_graph_drl\", \n",
    "                           n_genes=12, ncols=3, \n",
    "                           save=\"RT_lineagedriver_Keratinocytes_cytokernel.png\")"
   ]
  },
  {
   "cell_type": "code",
   "execution_count": null,
   "id": "bf79b3ed",
   "metadata": {},
   "outputs": [],
   "source": [
    "Ery_drivers = g_fwd.compute_lineage_drivers(lineages=\"Erythroid cells\", return_drivers=True)\n",
    "Ery_drivers.sort_values(by=\"Erythroid cells_corr\", ascending=False)"
   ]
  },
  {
   "cell_type": "code",
   "execution_count": null,
   "id": "61e074f9",
   "metadata": {},
   "outputs": [],
   "source": [
    "g_fwd.plot_lineage_drivers(\"Erythroid cells\", \n",
    "                           basis=\"draw_graph_drl\", \n",
    "                           n_genes=12, ncols=3, \n",
    "                           save=\"RT_lineagedriver_Erythroid_cells_cytokernel.png\")"
   ]
  },
  {
   "cell_type": "code",
   "execution_count": null,
   "id": "640a05b3",
   "metadata": {},
   "outputs": [],
   "source": [
    "cr.pl.circular_projection(adata_merge, keys=[\"kl_divergence\",\"celltypes\"], figsize=[15,5] ,\n",
    "                          legend_loc=\"right\", ncols=2,\n",
    "                          save=\"RT_circularprojection_cytokernel.png\")"
   ]
  },
  {
   "cell_type": "code",
   "execution_count": null,
   "id": "0fe55d59",
   "metadata": {},
   "outputs": [],
   "source": [
    "### compute initial state\n",
    "ctk2 = CytoTRACEKernel(adata_merge, backward=True, check_connectivity=True)"
   ]
  },
  {
   "cell_type": "code",
   "execution_count": null,
   "id": "ae4ffbc5",
   "metadata": {},
   "outputs": [],
   "source": [
    "ctk2.compute_transition_matrix(threshold_scheme=\"hard\",) #nu=0.5)"
   ]
  },
  {
   "cell_type": "code",
   "execution_count": null,
   "id": "74676d52",
   "metadata": {},
   "outputs": [],
   "source": [
    "ctk2.plot_projection(basis=\"draw_graph_drl\", color=[\"celltypes\",\"orig.ident\"], \n",
    "                     title=\"backward velocity stream of regenerating tail\", \n",
    "                     save=\"RT_embedstream_drl_celltype_bwd_cytokernel.png\")"
   ]
  },
  {
   "cell_type": "code",
   "execution_count": null,
   "id": "665f7cd5",
   "metadata": {},
   "outputs": [],
   "source": [
    "g_bwd = GPCCA(ctk2)\n",
    "print(g_bwd)"
   ]
  },
  {
   "cell_type": "code",
   "execution_count": null,
   "id": "c0b13bdd",
   "metadata": {},
   "outputs": [],
   "source": [
    "g_bwd.compute_schur(n_components=20)\n",
    "g_bwd.plot_spectrum(real_only=True)"
   ]
  },
  {
   "cell_type": "code",
   "execution_count": null,
   "id": "8e6d4924",
   "metadata": {},
   "outputs": [],
   "source": [
    "g_bwd.compute_macrostates(n_states=7, cluster_key=\"celltypes\")\n",
    "g_bwd.plot_macrostates( \n",
    "    which=\"all\", discrete=True, legend_loc=\"right\", size=100, basis=\"draw_graph_drl\", title=\"potential initial macrostates on regenerating tail\",\n",
    "    save=\"RT_macrostate_init_stage_celltype_cytokernel.png\",\n",
    ")"
   ]
  },
  {
   "cell_type": "code",
   "execution_count": null,
   "id": "517a1b1c",
   "metadata": {},
   "outputs": [],
   "source": [
    "g_bwd.plot_coarse_T(title=\"coarse-grained transition matrix of initial macrostates\", save=\"RT_macrostatecoarse_celltype_bwd_cytokernel.png\")"
   ]
  },
  {
   "cell_type": "code",
   "execution_count": null,
   "id": "9559909f",
   "metadata": {},
   "outputs": [],
   "source": [
    "g_bwd.compute_macrostates(n_states=7, cluster_key=\"orig.ident\")\n",
    "g_bwd.plot_macrostates(\n",
    "     which=\"all\", discrete=True, legend_loc=\"right\", size=100, basis=\"draw_graph_drl\", title=\"potential initial macrostates on regenerating tail\",\n",
    "    save=\"RT_macrostate_init_stages_cytokernel.png\",\n",
    ")"
   ]
  },
  {
   "cell_type": "code",
   "execution_count": null,
   "id": "08e14887",
   "metadata": {},
   "outputs": [],
   "source": [
    "g_bwd.compute_macrostates(n_states=7, cluster_key=\"celltypes\")\n",
    "g_bwd.predict_terminal_states()"
   ]
  },
  {
   "cell_type": "code",
   "execution_count": null,
   "id": "aed0795a",
   "metadata": {},
   "outputs": [],
   "source": [
    "g_bwd.plot_macrostates(\n",
    "     which=\"terminal\", discrete=True, legend_loc=\"right\", size=100, basis=\"draw_graph_drl\", title=\"initial macrostates on regenerating tail\",\n",
    "    save=\"RT_initialstate_celltype_cytokernel.png\",\n",
    ")"
   ]
  },
  {
   "cell_type": "code",
   "execution_count": null,
   "id": "b5afd5d7",
   "metadata": {},
   "outputs": [],
   "source": [
    "g_bwd.compute_fate_probabilities()\n",
    "g_bwd.plot_fate_probabilities(same_plot=False, size=50, basis=\"draw_graph_drl\", ncols=3,\n",
    "                                    save=\"RT_fateprob_initialstate_cytokernel.png\")"
   ]
  },
  {
   "cell_type": "code",
   "execution_count": null,
   "id": "df6e0256",
   "metadata": {},
   "outputs": [],
   "source": [
    "g_bwd.set_terminal_states(states=[\"Stromal cells\",\"Keratinocytes\",\"Fibroblasts\"])"
   ]
  },
  {
   "cell_type": "code",
   "execution_count": null,
   "id": "8014e99f",
   "metadata": {},
   "outputs": [],
   "source": [
    "scv.tl.recover_dynamics(adata_merge)"
   ]
  },
  {
   "cell_type": "code",
   "execution_count": null,
   "id": "ee9b91a9",
   "metadata": {},
   "outputs": [],
   "source": [
    "scv.tl.recover_latent_time(\n",
    "    adata_merge, root_key=\"term_states_bwd_probs\", end_key=\"term_states_fwd_probs\"\n",
    ")"
   ]
  },
  {
   "cell_type": "code",
   "execution_count": null,
   "id": "2815b364",
   "metadata": {},
   "outputs": [],
   "source": [
    "scv.tl.paga(\n",
    "    adata_merge,\n",
    "    groups=\"celltypes\",\n",
    "    root_key=\"term_states_bwd_probs\",\n",
    "    end_key=\"term_states_fwd_probs\",\n",
    "    use_time_prior=\"velocity_pseudotime\",\n",
    ")"
   ]
  },
  {
   "cell_type": "code",
   "execution_count": null,
   "id": "f77c6416",
   "metadata": {},
   "outputs": [],
   "source": [
    "cr.pl.aggregate_fate_probabilities(adata_merge, \n",
    "                                         mode=\"paga_pie\", \n",
    "                                         backward=False, lineages=None, \n",
    "                                         cluster_key='celltypes', clusters=None, \n",
    "                                         basis=\"draw_graph_drl\", cbar=True, \n",
    "                                         ncols=None, sharey=False, fmt='0.2f', xrot=90, \n",
    "                                         legend_kwargs={'loc':  \"top right out\"},\n",
    "                                         title=\"directed PAGA\",\n",
    "                                         save=\"RT_directed_PAGA_cytokernel.png\")"
   ]
  },
  {
   "cell_type": "code",
   "execution_count": null,
   "id": "7ca964fa",
   "metadata": {},
   "outputs": [],
   "source": [
    "cr.pl.aggregate_fate_probabilities(adata_merge, \n",
    "                                         mode=\"paga_pie\", \n",
    "                                         backward=False, lineages=None, \n",
    "                                         cluster_key='celltypes', clusters=None, \n",
    "                                         basis=\"draw_graph_drl\", cbar=True, \n",
    "                                         ncols=None, sharey=False, fmt='0.2f', xrot=90, \n",
    "                                         legend_kwargs={'loc':  \"top right out\"},\n",
    "                                         title=\"directed PAGA\",\n",
    "                                         save=\"RT_directed_PAGA_cytokernel.png\")"
   ]
  },
  {
   "cell_type": "code",
   "execution_count": null,
   "id": "0e2cbeee",
   "metadata": {},
   "outputs": [],
   "source": [
    "cr.pl.aggregate_fate_probabilities(\n",
    "    adata_merge,\n",
    "    mode=\"violin\",\n",
    "    lineages=[\"Myoblasts\",\"Chondrocytes\",\"Erythroid cells\", \"Keratinocytes\", \"Myocytes\"],\n",
    "    cluster_key=\"celltypes\", ncols=2, #figsize=[5,15] # xrot=45, \n",
    "    save=\"RT_fate_probs_violoin_cytokernel.png\"\n",
    ")"
   ]
  },
  {
   "cell_type": "code",
   "execution_count": null,
   "id": "15d75f2a",
   "metadata": {},
   "outputs": [],
   "source": [
    "cr.pl.aggregate_fate_probabilities(\n",
    "    adata_merge,\n",
    "    mode=\"heatmap\",\n",
    "    lineages=[\"Myoblasts\",\"Chondrocytes\",\"Erythroid cells\", \"Keratinocytes\", \"Myocytes\"],\n",
    "    cluster_key=\"celltypes\", ncols=3, #figsize=[5,15] # xrot=45, \n",
    "    save=\"RT_fate_probs_heatmap_cytokernel.png\",\n",
    ")"
   ]
  },
  {
   "cell_type": "code",
   "execution_count": null,
   "id": "0c3c924a",
   "metadata": {},
   "outputs": [],
   "source": [
    "cr.pl.circular_projection(adata_merge, keys=\"celltypes\", legend_loc=\"right\")"
   ]
  },
  {
   "cell_type": "code",
   "execution_count": null,
   "id": "e0494787",
   "metadata": {},
   "outputs": [],
   "source": [
    "cr.tl.terminal_states(\n",
    "    adata_merge,\n",
    "    cluster_key=\"celltypes\",\n",
    "    weight_connectivities=0.2,\n",
    "    n_states=3,\n",
    "    softmax_scale=4,\n",
    "    show_progress_bar=False,\n",
    ")\n",
    "cr.tl.lineages(adata_merge)\n",
    "\n",
    "model = cr.ul.models.GAM(adata_merge)"
   ]
  },
  {
   "cell_type": "code",
   "execution_count": null,
   "id": "d547f80e",
   "metadata": {},
   "outputs": [],
   "source": [
    "model = cr.models.GAM(adata_merge)"
   ]
  },
  {
   "cell_type": "code",
   "execution_count": null,
   "id": "8a1def94",
   "metadata": {},
   "outputs": [],
   "source": [
    "# obtain some genes from the same cluster, sort by mean expression\n",
    "mid_peak_genes = (\n",
    "    gdata[gdata.obs[\"clusters\"] == \"5\"]\n",
    "    .obs.sort_values(\"means\", ascending=False)\n",
    "    .head(8)\n",
    "    .index\n",
    ")\n",
    "\n",
    "# plot\n",
    "cr.pl.gene_trends(\n",
    "    adata,\n",
    "    model=model,\n",
    "    lineages=\"Beta\",\n",
    "    cell_color=\"clusters\",\n",
    "    data_key=\"magic_imputed_data\",\n",
    "    genes=[\"Pax4\"] + list(mid_peak_genes),\n",
    "    same_plot=True,\n",
    "    ncols=3,\n",
    "    time_key=\"palantir_pseudotime\",\n",
    "    hide_cells=False,\n",
    "    weight_threshold=(1e-3, 1e-3),\n",
    ")"
   ]
  },
  {
   "cell_type": "code",
   "execution_count": null,
   "id": "f4961356",
   "metadata": {},
   "outputs": [],
   "source": [
    "cr.pl.gene_trends(\n",
    "    adata_merge,\n",
    "    model,\n",
    "    [\"SHH\", \"MYOG\"],\n",
    "    data_key=\"Ms\",\n",
    "    time_key=\"ct_pseudotime\",\n",
    "    show_progress_bar=False,\n",
    ")"
   ]
  },
  {
   "cell_type": "code",
   "execution_count": null,
   "id": "e2a60f55",
   "metadata": {},
   "outputs": [],
   "source": [
    "cr.pl.gene_trends(\n",
    "    adata_merge,\n",
    "    model,\n",
    "    [\"COL2A1\", \"MYOG\", \"MYOD1\",\"LOC125439306\"],\n",
    "    data_key=\"Ms\",\n",
    "    same_plot=True,\n",
    "    hide_cells=True,\n",
    "    time_key=\"ct_pseudotime\",\n",
    "    show_progress_bar=False,\n",
    ")"
   ]
  },
  {
   "cell_type": "code",
   "execution_count": null,
   "id": "d291646b",
   "metadata": {},
   "outputs": [],
   "source": [
    "pd.__version__"
   ]
  },
  {
   "cell_type": "code",
   "execution_count": null,
   "id": "a6ad138f",
   "metadata": {},
   "outputs": [],
   "source": []
  }
 ],
 "metadata": {
  "kernelspec": {
   "display_name": "cellrank2",
   "language": "python",
   "name": "cellrank2"
  },
  "language_info": {
   "codemirror_mode": {
    "name": "ipython",
    "version": 3
   },
   "file_extension": ".py",
   "mimetype": "text/x-python",
   "name": "python",
   "nbconvert_exporter": "python",
   "pygments_lexer": "ipython3",
   "version": "3.9.18"
  }
 },
 "nbformat": 4,
 "nbformat_minor": 5
}
